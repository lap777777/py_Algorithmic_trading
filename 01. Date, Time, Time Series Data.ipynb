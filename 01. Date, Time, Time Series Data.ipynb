{
 "cells": [
  {
   "cell_type": "code",
   "execution_count": 1,
   "source": [
    "from datetime import datetime as dt\n",
    "from datetime import timedelta as td\n",
    "import pandas as pd"
   ],
   "outputs": [],
   "metadata": {}
  },
  {
   "cell_type": "markdown",
   "source": [
    "## Datetime objects"
   ],
   "metadata": {}
  },
  {
   "cell_type": "code",
   "execution_count": 2,
   "source": [
    "dt1 = dt.now()    # current time\n",
    "print(dt1)"
   ],
   "outputs": [
    {
     "output_type": "stream",
     "name": "stdout",
     "text": [
      "2021-08-30 18:05:41.966389\n"
     ]
    }
   ],
   "metadata": {}
  },
  {
   "cell_type": "code",
   "execution_count": 3,
   "source": [
    "print(f\"year: {dt1.year}\")\n",
    "print(f\"month: {dt1.month}\")\n",
    "print(f\"day: {dt1.day}\")\n",
    "print(f\"hour: {dt1.hour}\")\n",
    "print(f\"minute: {dt1.minute}\")\n",
    "print(f\"second: {dt1.second}\")\n",
    "print(f\"microseconds: {dt1.microsecond}\")\n",
    "print(f\"timezone: {dt1.tzinfo}\")"
   ],
   "outputs": [
    {
     "output_type": "stream",
     "name": "stdout",
     "text": [
      "year: 2021\n",
      "month: 8\n",
      "day: 30\n",
      "hour: 18\n",
      "minute: 5\n",
      "second: 41\n",
      "microseconds: 966389\n",
      "timezone: None\n"
     ]
    }
   ],
   "metadata": {}
  },
  {
   "cell_type": "code",
   "execution_count": 7,
   "source": [
    "# funkce datetime ... ulozi datum do promenne\n",
    "dt2 = dt(year=2021, month=7, day=31)\n",
    "print(dt2)\n",
    "print(type(dt2))"
   ],
   "outputs": [
    {
     "output_type": "stream",
     "name": "stdout",
     "text": [
      "2021-07-31 00:00:00\n",
      "<class 'datetime.datetime'>\n"
     ]
    }
   ],
   "metadata": {}
  },
  {
   "cell_type": "code",
   "execution_count": 5,
   "source": [
    "# metoda date - datovy typ dt.date - vraci datum \n",
    "print(dt2.date())   \n",
    "print(type(dt2.date()))"
   ],
   "outputs": [
    {
     "output_type": "stream",
     "name": "stdout",
     "text": [
      "2021-07-31\n",
      "<class 'datetime.date'>\n"
     ]
    }
   ],
   "metadata": {}
  },
  {
   "cell_type": "code",
   "execution_count": 9,
   "source": [
    "# metoda time - datovy typ dt.time - vraci cas\n",
    "print(dt1.time())\n",
    "print(type(dt1.time()))"
   ],
   "outputs": [
    {
     "output_type": "stream",
     "name": "stdout",
     "text": [
      "18:05:41.966389\n",
      "<class 'datetime.time'>\n"
     ]
    }
   ],
   "metadata": {}
  },
  {
   "cell_type": "markdown",
   "source": [
    "## Timedelta objects"
   ],
   "metadata": {}
  },
  {
   "cell_type": "code",
   "execution_count": null,
   "source": [
    "# timedelta ... prace s trvanim casu\n",
    "td1 = td(days=5, hours=3, minutes=30)\n",
    "print(f\"Doba trvani: {td1}\")\n",
    "td2 = td(days=7, hours=23, minutes=59)\n",
    "print(f\"Doba trvani: {td2}\")\n",
    "td3 = td1 + td2\n",
    "print(f\"Celkova doba trvani: {td3}\")\n",
    "# casovy interval - timedelta/td - muzu +,-,*,/\n",
    "td4 = td1 * 2 - td2 / 2 + td3 / 4\n",
    "print(td4)\n",
    "td5 = td(hours=23, minutes=59, seconds=60)\n",
    "\n",
    "# metoda total_seconds:\n",
    "print(f\"Cekovy pocet sekund v 1 dni: {td.total_seconds(td5):,.0f}\")"
   ],
   "outputs": [
    {
     "output_type": "stream",
     "name": "stdout",
     "text": [
      "Doba trvani: 5 days, 3:30:00\n",
      "Doba trvani: 7 days, 23:59:00\n",
      "Celkova doba trvani: 13 days, 3:29:00\n",
      "9 days, 13:52:45\n",
      "Cekovy pocet sekund v 1 dni: 86,400\n"
     ]
    }
   ],
   "metadata": {}
  },
  {
   "cell_type": "markdown",
   "source": [
    "## Operations on datetime objects"
   ],
   "metadata": {}
  },
  {
   "cell_type": "code",
   "execution_count": 24,
   "source": [
    "# today's date\n",
    "today = dt.today()\n",
    "print(f\"Todays date: {today}\")\n",
    "print(dt.now())\n",
    "\n",
    "# +/- of datetime objects\n",
    "date_5days_later = today + td(days=5)\n",
    "print(f\"5 days later: {date_5days_later}\")\n",
    "date_5days_ago = today - td(days=5)\n",
    "print(f\"5 days ago: {date_5days_ago}\")\n",
    "\n",
    "# comparison of datetime objects:\n",
    "print(date_5days_ago < today < date_5days_later)\n",
    "\n",
    "# pozor na scitani casu - musim secit datum vcetne casu + timedelta objekt a na to cele aplikovat metodu time()\n",
    "current_timestamp = dt.now()\n",
    "time_now = current_timestamp.time()\n",
    "print(f\"Time now: {time_now}\")\n",
    "time_5min_later = (current_timestamp + td(minutes=5)).time()\n",
    "print(f\"Time + 5 min: {time_5min_later}\")\n",
    "time_5min_ago = (current_timestamp - td(minutes=5)).time()\n",
    "print(f\"Time - 5 minutes: {time_5min_ago}\")\n",
    "print(time_5min_ago < time_now < time_5min_later)\n"
   ],
   "outputs": [
    {
     "output_type": "stream",
     "name": "stdout",
     "text": [
      "Todays date: 2021-08-30 20:35:32.058039\n",
      "2021-08-30 20:35:32.058488\n",
      "5 days later: 2021-09-04 20:35:32.058039\n",
      "5 days ago: 2021-08-25 20:35:32.058039\n",
      "True\n",
      "Time now: 20:35:32.059196\n",
      "Time + 5 min: 20:40:32.059196\n",
      "Time - 5 minutes: 20:30:32.059196\n",
      "True\n"
     ]
    }
   ],
   "metadata": {}
  },
  {
   "cell_type": "markdown",
   "source": [
    "## Modifying datetime objects"
   ],
   "metadata": {}
  },
  {
   "cell_type": "code",
   "execution_count": 31,
   "source": [
    "dt1 = dt.now()\n",
    "print(dt1)\n",
    "dt2 = dt1.replace(year=2022, month=1, day=1)\n",
    "print(dt2)\n",
    "dt3 = dt(year=2022, month=1, day=1, hour=dt1.hour, minute=dt1.minute, second=dt1.second, microsecond=dt1.microsecond)\n",
    "print(dt2 == dt3)"
   ],
   "outputs": [
    {
     "output_type": "stream",
     "name": "stdout",
     "text": [
      "2021-08-30 20:48:07.967148\n",
      "2022-01-01 20:48:07.967148\n",
      "True\n"
     ]
    }
   ],
   "metadata": {}
  },
  {
   "cell_type": "markdown",
   "source": [
    "## Converting a datetime object to a string"
   ],
   "metadata": {}
  },
  {
   "cell_type": "code",
   "execution_count": null,
   "source": [
    "now = dt.now().astimezone()\n",
    "print(str(now))\n"
   ],
   "outputs": [],
   "metadata": {}
  }
 ],
 "metadata": {
  "orig_nbformat": 4,
  "language_info": {
   "name": "python",
   "version": "3.8.8",
   "mimetype": "text/x-python",
   "codemirror_mode": {
    "name": "ipython",
    "version": 3
   },
   "pygments_lexer": "ipython3",
   "nbconvert_exporter": "python",
   "file_extension": ".py"
  },
  "kernelspec": {
   "name": "python3",
   "display_name": "Python 3.8.8 64-bit ('base': conda)"
  },
  "interpreter": {
   "hash": "65b40017f2b80ee436eb3e903c78a9438c26239f6b288f290bbc5319beed81de"
  }
 },
 "nbformat": 4,
 "nbformat_minor": 2
}