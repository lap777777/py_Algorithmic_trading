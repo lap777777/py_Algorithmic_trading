{
 "cells": [
  {
   "cell_type": "code",
   "execution_count": 4,
   "source": [
    "from datetime import datetime as dt\n",
    "from datetime import timedelta as td\n",
    "import pandas as pd"
   ],
   "outputs": [],
   "metadata": {}
  },
  {
   "cell_type": "markdown",
   "source": [
    "## Datetime objects"
   ],
   "metadata": {}
  },
  {
   "cell_type": "code",
   "execution_count": 5,
   "source": [
    "dt1 = dt.now()    # current time\n",
    "print(dt1)"
   ],
   "outputs": [
    {
     "output_type": "stream",
     "name": "stdout",
     "text": [
      "2021-09-01 23:44:27.024720\n"
     ]
    }
   ],
   "metadata": {}
  },
  {
   "cell_type": "code",
   "execution_count": 6,
   "source": [
    "print(f\"year: {dt1.year}\")\n",
    "print(f\"month: {dt1.month}\")\n",
    "print(f\"day: {dt1.day}\")\n",
    "print(f\"hour: {dt1.hour}\")\n",
    "print(f\"minute: {dt1.minute}\")\n",
    "print(f\"second: {dt1.second}\")\n",
    "print(f\"microseconds: {dt1.microsecond}\")\n",
    "print(f\"timezone: {dt1.tzinfo}\")\n",
    "print(f\"Current time: {dt1.time()}\")"
   ],
   "outputs": [
    {
     "output_type": "stream",
     "name": "stdout",
     "text": [
      "year: 2021\n",
      "month: 9\n",
      "day: 1\n",
      "hour: 23\n",
      "minute: 44\n",
      "second: 27\n",
      "microseconds: 24720\n",
      "timezone: None\n",
      "Current time: 23:44:27.024720\n"
     ]
    }
   ],
   "metadata": {}
  },
  {
   "cell_type": "code",
   "execution_count": 7,
   "source": [
    "# funkce datetime ... ulozi datum do promenne\n",
    "dt2 = dt(year=2021, month=7, day=31)\n",
    "print(dt2)\n",
    "print(type(dt2))"
   ],
   "outputs": [
    {
     "output_type": "stream",
     "name": "stdout",
     "text": [
      "2021-07-31 00:00:00\n",
      "<class 'datetime.datetime'>\n"
     ]
    }
   ],
   "metadata": {}
  },
  {
   "cell_type": "code",
   "execution_count": 8,
   "source": [
    "# metoda date - datovy typ dt.date - vraci datum \n",
    "print(dt2.date())   \n",
    "print(type(dt2.date()))"
   ],
   "outputs": [
    {
     "output_type": "stream",
     "name": "stdout",
     "text": [
      "2021-07-31\n",
      "<class 'datetime.date'>\n"
     ]
    }
   ],
   "metadata": {}
  },
  {
   "cell_type": "code",
   "execution_count": 9,
   "source": [
    "# metoda time - datovy typ dt.time - vraci cas\n",
    "print(dt1.time())\n",
    "print(type(dt1.time()))"
   ],
   "outputs": [
    {
     "output_type": "stream",
     "name": "stdout",
     "text": [
      "23:44:27.024720\n",
      "<class 'datetime.time'>\n"
     ]
    }
   ],
   "metadata": {}
  },
  {
   "cell_type": "markdown",
   "source": [
    "## Timedelta objects"
   ],
   "metadata": {}
  },
  {
   "cell_type": "code",
   "execution_count": 10,
   "source": [
    "# timedelta ... prace s trvanim casu\n",
    "td1 = td(days=5, hours=3, minutes=30)\n",
    "print(f\"Doba trvani: {td1}\")\n",
    "td2 = td(days=7, hours=23, minutes=59)\n",
    "print(f\"Doba trvani: {td2}\")\n",
    "td3 = td1 + td2\n",
    "print(f\"Celkova doba trvani: {td3}\")\n",
    "# casovy interval - timedelta/td - muzu +,-,*,/\n",
    "td4 = td1 * 2 - td2 / 2 + td3 / 4\n",
    "print(td4)\n",
    "td5 = td(hours=23, minutes=59, seconds=60)\n",
    "\n",
    "# metoda total_seconds:\n",
    "print(f\"Cekovy pocet sekund v 1 dni: {td.total_seconds(td5):,.0f}\")"
   ],
   "outputs": [
    {
     "output_type": "stream",
     "name": "stdout",
     "text": [
      "Doba trvani: 5 days, 3:30:00\n",
      "Doba trvani: 7 days, 23:59:00\n",
      "Celkova doba trvani: 13 days, 3:29:00\n",
      "9 days, 13:52:45\n",
      "Cekovy pocet sekund v 1 dni: 86,400\n"
     ]
    }
   ],
   "metadata": {}
  },
  {
   "cell_type": "markdown",
   "source": [
    "## Operations on datetime objects"
   ],
   "metadata": {}
  },
  {
   "cell_type": "code",
   "execution_count": 11,
   "source": [
    "# today's date\n",
    "today = dt.today()\n",
    "print(f\"Todays date: {today}\")\n",
    "print(dt.now())\n",
    "\n",
    "# +/- of datetime objects\n",
    "date_5days_later = today + td(days=5)\n",
    "print(f\"5 days later: {date_5days_later}\")\n",
    "date_5days_ago = today - td(days=5)\n",
    "print(f\"5 days ago: {date_5days_ago}\")\n",
    "\n",
    "# comparison of datetime objects:\n",
    "print(date_5days_ago < today < date_5days_later)\n",
    "\n",
    "# pozor na scitani casu - musim secit datum vcetne casu + timedelta objekt a na to cele aplikovat metodu time()\n",
    "current_timestamp = dt.now()\n",
    "time_now = current_timestamp.time()\n",
    "print(f\"Time now: {time_now}\")\n",
    "time_5min_later = (current_timestamp + td(minutes=5)).time()\n",
    "print(f\"Time + 5 min: {time_5min_later}\")\n",
    "time_5min_ago = (current_timestamp - td(minutes=5)).time()\n",
    "print(f\"Time - 5 minutes: {time_5min_ago}\")\n",
    "print(time_5min_ago < time_now < time_5min_later)\n"
   ],
   "outputs": [
    {
     "output_type": "stream",
     "name": "stdout",
     "text": [
      "Todays date: 2021-09-01 23:44:27.219682\n",
      "2021-09-01 23:44:27.219777\n",
      "5 days later: 2021-09-06 23:44:27.219682\n",
      "5 days ago: 2021-08-27 23:44:27.219682\n",
      "True\n",
      "Time now: 23:44:27.220210\n",
      "Time + 5 min: 23:49:27.220210\n",
      "Time - 5 minutes: 23:39:27.220210\n",
      "True\n"
     ]
    }
   ],
   "metadata": {}
  },
  {
   "cell_type": "markdown",
   "source": [
    "## Modifying datetime objects"
   ],
   "metadata": {}
  },
  {
   "cell_type": "code",
   "execution_count": 12,
   "source": [
    "dt1 = dt.now()\n",
    "print(dt1)\n",
    "dt2 = dt1.replace(year=2022, month=1, day=1)\n",
    "print(dt2)\n",
    "dt3 = dt(year=2022, month=1, day=1, hour=dt1.hour, minute=dt1.minute, second=dt1.second, microsecond=dt1.microsecond)\n",
    "print(dt2 == dt3)"
   ],
   "outputs": [
    {
     "output_type": "stream",
     "name": "stdout",
     "text": [
      "2021-09-01 23:44:27.249707\n",
      "2022-01-01 23:44:27.249707\n",
      "True\n"
     ]
    }
   ],
   "metadata": {}
  },
  {
   "cell_type": "markdown",
   "source": [
    "## Converting a datetime object to a string (metoda .strftime())"
   ],
   "metadata": {}
  },
  {
   "cell_type": "code",
   "execution_count": 18,
   "source": [
    "now_a = dt.now().astimezone()   # current time + timezone\n",
    "print(str(now_a))\n",
    "\n",
    "# metoda strftime - prevede cas na string do specifikovaneho formatu\n",
    "print(now_a.strftime(\"%d-%m-%Y %H:%M:%S %Z\"))\n",
    "print(type(now_a))"
   ],
   "outputs": [
    {
     "output_type": "stream",
     "name": "stdout",
     "text": [
      "2021-09-01 23:52:14.102060+02:00\n",
      "01-09-2021 23:52:14 CEST\n",
      "<class 'datetime.datetime'>\n"
     ]
    }
   ],
   "metadata": {}
  },
  {
   "cell_type": "markdown",
   "source": [
    "## Creating a datetime object from a string (metoda.strptime())"
   ],
   "metadata": {}
  },
  {
   "cell_type": "code",
   "execution_count": 17,
   "source": [
    "now_str = \"13-1-2021 15:53:39 +06:00\"\n",
    "now_b = dt.strptime(now_str, \"%d-%m-%Y %H:%M:%S %z\")\n",
    "print(now_b)\n",
    "print(type(now_b))\n",
    "\n",
    "# pokud nacitam string do datetime objektu - musim ho nacist cely - nemuzu jenom kus, jinak to vyhodi chybu, takze si musim string rozsekat nebo ho nacist cely\n",
    "try:\n",
    "    now_c = dt.strptime(now_str, \"%d-%m-%Y\")\n",
    "except:\n",
    "    print(\"chyba, musim nacist cely retezec\")\n",
    "else:\n",
    "    print(now_c)"
   ],
   "outputs": [
    {
     "output_type": "stream",
     "name": "stdout",
     "text": [
      "2021-01-13 15:53:39+06:00\n",
      "<class 'datetime.datetime'>\n"
     ]
    }
   ],
   "metadata": {}
  }
 ],
 "metadata": {
  "orig_nbformat": 4,
  "language_info": {
   "name": "python",
   "version": "3.9.5",
   "mimetype": "text/x-python",
   "codemirror_mode": {
    "name": "ipython",
    "version": 3
   },
   "pygments_lexer": "ipython3",
   "nbconvert_exporter": "python",
   "file_extension": ".py"
  },
  "kernelspec": {
   "name": "python3",
   "display_name": "Python 3.9.5 64-bit (conda)"
  },
  "interpreter": {
   "hash": "986f064d116e15963c332df0c3d0382e972d1a1773359d464bffe7da98105279"
  }
 },
 "nbformat": 4,
 "nbformat_minor": 2
}