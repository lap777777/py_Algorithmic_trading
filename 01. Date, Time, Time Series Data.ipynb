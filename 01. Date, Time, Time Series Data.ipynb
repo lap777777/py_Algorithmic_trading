{
 "cells": [
  {
   "cell_type": "code",
   "execution_count": 1,
   "source": [
    "from datetime import datetime as dt\n",
    "from datetime import timedelta as td\n",
    "import pandas as pd"
   ],
   "outputs": [],
   "metadata": {}
  },
  {
   "cell_type": "markdown",
   "source": [
    "## Datetime objects"
   ],
   "metadata": {}
  },
  {
   "cell_type": "code",
   "execution_count": null,
   "source": [
    "dt1 = dt.now()    # current time\n",
    "print(dt1)"
   ],
   "outputs": [
    {
     "output_type": "stream",
     "name": "stdout",
     "text": [
      "2021-08-29 01:40:21.106907\n"
     ]
    }
   ],
   "metadata": {}
  },
  {
   "cell_type": "code",
   "execution_count": null,
   "source": [
    "print(f\"year: {dt1.year}\")\n",
    "print(f\"month: {dt1.month}\")\n",
    "print(f\"day: {dt1.day}\")\n",
    "print(f\"hour: {dt1.hour}\")\n",
    "print(f\"minute: {dt1.minute}\")\n",
    "print(f\"second: {dt1.second}\")\n",
    "print(f\"microseconds: {dt1.microsecond}\")\n",
    "print(f\"timezone: {dt1.tzinfo}\")"
   ],
   "outputs": [
    {
     "output_type": "error",
     "ename": "NameError",
     "evalue": "name 'dt1' is not defined",
     "traceback": [
      "\u001b[0;31m---------------------------------------------------------------------------\u001b[0m",
      "\u001b[0;31mNameError\u001b[0m                                 Traceback (most recent call last)",
      "\u001b[0;32m<ipython-input-1-2a273c14bf0b>\u001b[0m in \u001b[0;36m<module>\u001b[0;34m\u001b[0m\n\u001b[0;32m----> 1\u001b[0;31m \u001b[0mprint\u001b[0m\u001b[0;34m(\u001b[0m\u001b[0;34mf\"year: {dt1.year}\"\u001b[0m\u001b[0;34m)\u001b[0m\u001b[0;34m\u001b[0m\u001b[0;34m\u001b[0m\u001b[0m\n\u001b[0m\u001b[1;32m      2\u001b[0m \u001b[0mprint\u001b[0m\u001b[0;34m(\u001b[0m\u001b[0;34mf\"month: {dt1.month}\"\u001b[0m\u001b[0;34m)\u001b[0m\u001b[0;34m\u001b[0m\u001b[0;34m\u001b[0m\u001b[0m\n\u001b[1;32m      3\u001b[0m \u001b[0mprint\u001b[0m\u001b[0;34m(\u001b[0m\u001b[0;34mf\"day: {dt1.day}\"\u001b[0m\u001b[0;34m)\u001b[0m\u001b[0;34m\u001b[0m\u001b[0;34m\u001b[0m\u001b[0m\n\u001b[1;32m      4\u001b[0m \u001b[0mprint\u001b[0m\u001b[0;34m(\u001b[0m\u001b[0;34mf\"hour: {dt1.hour}\"\u001b[0m\u001b[0;34m)\u001b[0m\u001b[0;34m\u001b[0m\u001b[0;34m\u001b[0m\u001b[0m\n\u001b[1;32m      5\u001b[0m \u001b[0mprint\u001b[0m\u001b[0;34m(\u001b[0m\u001b[0;34mf\"minute: {dt1.minute}\"\u001b[0m\u001b[0;34m)\u001b[0m\u001b[0;34m\u001b[0m\u001b[0;34m\u001b[0m\u001b[0m\n",
      "\u001b[0;31mNameError\u001b[0m: name 'dt1' is not defined"
     ]
    }
   ],
   "metadata": {}
  },
  {
   "cell_type": "code",
   "execution_count": null,
   "source": [
    "# funkce datetime ... ulozi datum do promenne\n",
    "dt2 = dt(year=2021, month=7, day=31)\n",
    "print(dt2)\n",
    "print(type(dt2))"
   ],
   "outputs": [
    {
     "output_type": "stream",
     "name": "stdout",
     "text": [
      "2021-07-31 00:00:00\n",
      "<class 'datetime.datetime'>\n"
     ]
    }
   ],
   "metadata": {}
  },
  {
   "cell_type": "code",
   "execution_count": null,
   "source": [
    "# metoda date - datovy typ dt.date - vraci datum \n",
    "print(dt2.date())   \n",
    "print(type(dt2.date()))"
   ],
   "outputs": [
    {
     "output_type": "stream",
     "name": "stdout",
     "text": [
      "2021-07-31\n",
      "<class 'datetime.date'>\n"
     ]
    }
   ],
   "metadata": {}
  },
  {
   "cell_type": "code",
   "execution_count": null,
   "source": [
    "# metoda time - datovy typ dt.time - vraci cas\n",
    "print(dt1.time())\n",
    "print(type(dt1.time()))"
   ],
   "outputs": [
    {
     "output_type": "stream",
     "name": "stdout",
     "text": [
      "01:40:21.106907\n",
      "<class 'datetime.time'>\n"
     ]
    }
   ],
   "metadata": {}
  },
  {
   "cell_type": "markdown",
   "source": [
    "## Timedelta objects"
   ],
   "metadata": {}
  },
  {
   "cell_type": "code",
   "execution_count": null,
   "source": [
    "# timedelta ... prace s trvanim casu\n",
    "td1 = td(days=5, hours=3, minutes=30)\n",
    "print(f\"Doba trvani: {td1}\")\n",
    "td2 = td(days=7, hours=23, minutes=59)\n",
    "print(f\"Doba trvani: {td2}\")\n",
    "td3 = td1 + td2\n",
    "print(f\"Celkova doba trvani: {td3}\")\n",
    "# casovy interval - timedelta/td - muzu +,-,*,/\n",
    "td4 = td1 * 2 - td2 / 2 + td3 / 4\n",
    "print(td4)\n",
    "td5 = td(hours=23, minutes=59, seconds=60)\n",
    "\n",
    "# metoda total_seconds:\n",
    "print(f\"Cekovy pocet sekund v 1 dni: {td.total_seconds(td5):,.0f}\")"
   ],
   "outputs": [
    {
     "output_type": "stream",
     "name": "stdout",
     "text": [
      "Doba trvani: 5 days, 3:30:00\n",
      "Doba trvani: 7 days, 23:59:00\n",
      "Celkova doba trvani: 13 days, 3:29:00\n",
      "9 days, 13:52:45\n",
      "Cekovy pocet sekund v 1 dni: 86,400\n"
     ]
    }
   ],
   "metadata": {}
  },
  {
   "cell_type": "markdown",
   "source": [
    "## Operations on datetime objects"
   ],
   "metadata": {}
  },
  {
   "cell_type": "code",
   "execution_count": null,
   "source": [
    "# today's date\n",
    "today = dt.today()\n",
    "print(f\"Todays date: {today}\")"
   ],
   "outputs": [
    {
     "output_type": "error",
     "ename": "NameError",
     "evalue": "name 'dt' is not defined",
     "traceback": [
      "\u001b[0;31m---------------------------------------------------------------------------\u001b[0m",
      "\u001b[0;31mNameError\u001b[0m                                 Traceback (most recent call last)",
      "\u001b[0;32m<ipython-input-3-a625fe4b9401>\u001b[0m in \u001b[0;36m<module>\u001b[0;34m\u001b[0m\n\u001b[1;32m      1\u001b[0m \u001b[0;31m# today's date\u001b[0m\u001b[0;34m\u001b[0m\u001b[0;34m\u001b[0m\u001b[0;34m\u001b[0m\u001b[0m\n\u001b[0;32m----> 2\u001b[0;31m \u001b[0mtoday\u001b[0m \u001b[0;34m=\u001b[0m \u001b[0mdt\u001b[0m\u001b[0;34m.\u001b[0m\u001b[0mtoday\u001b[0m\u001b[0;34m(\u001b[0m\u001b[0;34m)\u001b[0m\u001b[0;34m\u001b[0m\u001b[0;34m\u001b[0m\u001b[0m\n\u001b[0m\u001b[1;32m      3\u001b[0m \u001b[0mprint\u001b[0m\u001b[0;34m(\u001b[0m\u001b[0;34mf\"Todays date: {today}\"\u001b[0m\u001b[0;34m)\u001b[0m\u001b[0;34m\u001b[0m\u001b[0;34m\u001b[0m\u001b[0m\n",
      "\u001b[0;31mNameError\u001b[0m: name 'dt' is not defined"
     ]
    }
   ],
   "metadata": {}
  }
 ],
 "metadata": {
  "orig_nbformat": 4,
  "language_info": {
   "name": "python",
   "version": "3.8.8",
   "mimetype": "text/x-python",
   "codemirror_mode": {
    "name": "ipython",
    "version": 3
   },
   "pygments_lexer": "ipython3",
   "nbconvert_exporter": "python",
   "file_extension": ".py"
  },
  "kernelspec": {
   "name": "python3",
   "display_name": "Python 3.8.8 64-bit ('base': conda)"
  },
  "interpreter": {
   "hash": "65b40017f2b80ee436eb3e903c78a9438c26239f6b288f290bbc5319beed81de"
  }
 },
 "nbformat": 4,
 "nbformat_minor": 2
}